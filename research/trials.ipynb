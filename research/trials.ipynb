{
 "cells": [
  {
   "cell_type": "code",
   "execution_count": 3,
   "metadata": {},
   "outputs": [
    {
     "name": "stdout",
     "output_type": "stream",
     "text": [
      "Collecting pandas\n",
      "  Downloading pandas-2.2.2-cp310-cp310-win_amd64.whl.metadata (19 kB)\n",
      "Requirement already satisfied: numpy>=1.22.4 in c:\\users\\meka lakshmiraviteja\\anaconda3\\envs\\interview\\lib\\site-packages (from pandas) (1.26.4)\n",
      "Requirement already satisfied: python-dateutil>=2.8.2 in c:\\users\\meka lakshmiraviteja\\anaconda3\\envs\\interview\\lib\\site-packages (from pandas) (2.9.0)\n",
      "Collecting pytz>=2020.1 (from pandas)\n",
      "  Using cached pytz-2024.1-py2.py3-none-any.whl.metadata (22 kB)\n",
      "Collecting tzdata>=2022.7 (from pandas)\n",
      "  Using cached tzdata-2024.1-py2.py3-none-any.whl.metadata (1.4 kB)\n",
      "Requirement already satisfied: six>=1.5 in c:\\users\\meka lakshmiraviteja\\anaconda3\\envs\\interview\\lib\\site-packages (from python-dateutil>=2.8.2->pandas) (1.16.0)\n",
      "Downloading pandas-2.2.2-cp310-cp310-win_amd64.whl (11.6 MB)\n",
      "   ---------------------------------------- 0.0/11.6 MB ? eta -:--:--\n",
      "   ---------------------------------------- 0.0/11.6 MB ? eta -:--:--\n",
      "   ---------------------------------------- 0.1/11.6 MB 1.3 MB/s eta 0:00:09\n",
      "   - -------------------------------------- 0.3/11.6 MB 2.9 MB/s eta 0:00:04\n",
      "   -- ------------------------------------- 0.6/11.6 MB 3.7 MB/s eta 0:00:03\n",
      "   ---- ----------------------------------- 1.4/11.6 MB 6.4 MB/s eta 0:00:02\n",
      "   ------ --------------------------------- 1.9/11.6 MB 7.3 MB/s eta 0:00:02\n",
      "   -------- ------------------------------- 2.5/11.6 MB 8.3 MB/s eta 0:00:02\n",
      "   --------- ------------------------------ 2.7/11.6 MB 7.8 MB/s eta 0:00:02\n",
      "   ----------- ---------------------------- 3.3/11.6 MB 8.2 MB/s eta 0:00:02\n",
      "   ------------- -------------------------- 3.9/11.6 MB 8.5 MB/s eta 0:00:01\n",
      "   --------------- ------------------------ 4.6/11.6 MB 9.1 MB/s eta 0:00:01\n",
      "   ----------------- ---------------------- 5.0/11.6 MB 9.1 MB/s eta 0:00:01\n",
      "   ------------------ --------------------- 5.4/11.6 MB 9.2 MB/s eta 0:00:01\n",
      "   -------------------- ------------------- 5.8/11.6 MB 9.1 MB/s eta 0:00:01\n",
      "   --------------------- ------------------ 6.3/11.6 MB 9.1 MB/s eta 0:00:01\n",
      "   ----------------------- ---------------- 6.9/11.6 MB 9.4 MB/s eta 0:00:01\n",
      "   ------------------------- -------------- 7.4/11.6 MB 9.7 MB/s eta 0:00:01\n",
      "   ---------------------------- ----------- 8.4/11.6 MB 10.1 MB/s eta 0:00:01\n",
      "   ------------------------------ --------- 8.8/11.6 MB 10.2 MB/s eta 0:00:01\n",
      "   -------------------------------- ------- 9.4/11.6 MB 10.2 MB/s eta 0:00:01\n",
      "   ----------------------------------- ---- 10.2/11.6 MB 10.5 MB/s eta 0:00:01\n",
      "   ------------------------------------ --- 10.7/11.6 MB 11.7 MB/s eta 0:00:01\n",
      "   ---------------------------------------  11.4/11.6 MB 11.9 MB/s eta 0:00:01\n",
      "   ---------------------------------------- 11.6/11.6 MB 11.3 MB/s eta 0:00:00\n",
      "Using cached pytz-2024.1-py2.py3-none-any.whl (505 kB)\n",
      "Using cached tzdata-2024.1-py2.py3-none-any.whl (345 kB)\n",
      "Installing collected packages: pytz, tzdata, pandas\n",
      "Successfully installed pandas-2.2.2 pytz-2024.1 tzdata-2024.1\n"
     ]
    }
   ],
   "source": [
    "!pip install pandas "
   ]
  },
  {
   "cell_type": "code",
   "execution_count": 5,
   "metadata": {},
   "outputs": [],
   "source": [
    "import os \n",
    "import pandas as pd \n",
    "from dotenv import load_dotenv"
   ]
  },
  {
   "cell_type": "code",
   "execution_count": 6,
   "metadata": {},
   "outputs": [],
   "source": [
    "load_dotenv()\n",
    "OPENAI_API_KEY = os.getenv(\"OPENAI_API_KEY\")"
   ]
  },
  {
   "cell_type": "code",
   "execution_count": 7,
   "metadata": {},
   "outputs": [],
   "source": [
    "os.environ['OPENAI_API_KEY'] = OPENAI_API_KEY"
   ]
  },
  {
   "cell_type": "code",
   "execution_count": null,
   "metadata": {},
   "outputs": [],
   "source": []
  }
 ],
 "metadata": {
  "kernelspec": {
   "display_name": "interview",
   "language": "python",
   "name": "python3"
  },
  "language_info": {
   "codemirror_mode": {
    "name": "ipython",
    "version": 3
   },
   "file_extension": ".py",
   "mimetype": "text/x-python",
   "name": "python",
   "nbconvert_exporter": "python",
   "pygments_lexer": "ipython3",
   "version": "3.10.14"
  }
 },
 "nbformat": 4,
 "nbformat_minor": 2
}
